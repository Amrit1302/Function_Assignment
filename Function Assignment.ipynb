{
 "cells": [
  {
   "cell_type": "code",
   "execution_count": null,
   "id": "e312bc80-bdc4-4def-bef8-6c851751c564",
   "metadata": {},
   "outputs": [],
   "source": [
    "#1. Write a Python function that takes a list of numbers as input and returns the sum of all even numbers in the list."
   ]
  },
  {
   "cell_type": "code",
   "execution_count": 1,
   "id": "88bed605-7fb0-4c22-a594-dbf7614b1c3e",
   "metadata": {},
   "outputs": [
    {
     "name": "stdout",
     "output_type": "stream",
     "text": [
      "16\n"
     ]
    }
   ],
   "source": [
    "def sum_even(a):\n",
    "\tsum_ = 0\n",
    "\tfor value in a:\n",
    "\t\tif value % 2 == 0:\n",
    "\t\t\tsum_ += value\n",
    "\treturn sum_\n",
    "\n",
    "\n",
    "print(sum_even([10, 5, 6, 1]))"
   ]
  },
  {
   "cell_type": "code",
   "execution_count": null,
   "id": "c4da4280-49dc-4aab-94eb-d8f2a1d2169a",
   "metadata": {},
   "outputs": [],
   "source": [
    "#2. Create a Python function that accepts a string and returns the reverse of that string."
   ]
  },
  {
   "cell_type": "code",
   "execution_count": 3,
   "id": "8d50f7ed-567f-4aab-a4ba-9384c94fb7b3",
   "metadata": {},
   "outputs": [
    {
     "name": "stdout",
     "output_type": "stream",
     "text": [
      "The original string is : Pwskills\n",
      "The reversed string(using loops) is : sllikswP\n"
     ]
    }
   ],
   "source": [
    "def reverse(s):\n",
    "    str = \"\"\n",
    "    for i in s:\n",
    "        str = i + str\n",
    "    return str\n",
    "\n",
    "s = \"Pwskills\"\n",
    "\n",
    "print(\"The original string is : \", end=\"\")\n",
    "print(s)\n",
    "\n",
    "print(\"The reversed string(using loops) is : \", end=\"\")\n",
    "print(reverse(s))"
   ]
  },
  {
   "cell_type": "code",
   "execution_count": null,
   "id": "c17db762-4444-4018-9899-21526ea11c96",
   "metadata": {},
   "outputs": [],
   "source": [
    "#3. Implement a Python function that takes a list of integers and returns a new list containing the squares of each number."
   ]
  },
  {
   "cell_type": "code",
   "execution_count": 4,
   "id": "abc5e943-e65a-4259-aad8-a7d73d114f22",
   "metadata": {},
   "outputs": [
    {
     "name": "stdout",
     "output_type": "stream",
     "text": [
      "[121, 529, 169, 9, 1, 9, 16]\n"
     ]
    }
   ],
   "source": [
    "data=[11,23,13,3,1,3,4]\n",
    "result = [i*i for i in data]\n",
    "print(result)"
   ]
  },
  {
   "cell_type": "code",
   "execution_count": null,
   "id": "57691205-bea1-4630-b03c-11bc9657796e",
   "metadata": {},
   "outputs": [],
   "source": [
    "#4. Write a Python function that checks if a given number is prime or not from 1 to 200."
   ]
  },
  {
   "cell_type": "code",
   "execution_count": 8,
   "id": "bd88211a-0241-4c89-9222-13421b82b96b",
   "metadata": {},
   "outputs": [
    {
     "name": "stdout",
     "output_type": "stream",
     "text": [
      "False\n"
     ]
    }
   ],
   "source": [
    "import math\n",
    "\n",
    "def is_prime(n):\n",
    "    if n <= 1:\n",
    "        return False\n",
    "    for i in range(2, int(math.sqrt(n)) + 1):\n",
    "        if n % i == 0:\n",
    "            return False\n",
    "    return True\n",
    "\n",
    "n = 12\n",
    "print(is_prime(n))"
   ]
  },
  {
   "cell_type": "code",
   "execution_count": null,
   "id": "5e3440b4-ff37-414a-8c83-eb88b3a6ea69",
   "metadata": {},
   "outputs": [],
   "source": [
    "#5. Create an iterator class in Python that generates the Fibonacci sequence up to a specified number of terms."
   ]
  },
  {
   "cell_type": "code",
   "execution_count": 9,
   "id": "50e06c9e-b875-454d-bba3-87f7b057ef24",
   "metadata": {},
   "outputs": [],
   "source": [
    "def fib(n):\n",
    "    a = 0\n",
    "    b = 1\n",
    "    for i in range(n):\n",
    "        yield a\n",
    "        a, b = b, a+b"
   ]
  },
  {
   "cell_type": "code",
   "execution_count": 10,
   "id": "f1d3fccb-8a3d-493f-b2cf-ffdf7f6f8ce7",
   "metadata": {},
   "outputs": [],
   "source": [
    "f = fib(10)"
   ]
  },
  {
   "cell_type": "code",
   "execution_count": 11,
   "id": "36d13a18-a4d1-4e5f-91dc-2adbb3f06faf",
   "metadata": {},
   "outputs": [
    {
     "data": {
      "text/plain": [
       "<generator object fib at 0x706f7034ec00>"
      ]
     },
     "execution_count": 11,
     "metadata": {},
     "output_type": "execute_result"
    }
   ],
   "source": [
    "f"
   ]
  },
  {
   "cell_type": "code",
   "execution_count": 12,
   "id": "36f7efde-50b8-4357-988c-7f85971605da",
   "metadata": {},
   "outputs": [
    {
     "data": {
      "text/plain": [
       "0"
      ]
     },
     "execution_count": 12,
     "metadata": {},
     "output_type": "execute_result"
    }
   ],
   "source": [
    "next(f)"
   ]
  },
  {
   "cell_type": "code",
   "execution_count": 13,
   "id": "4bf135e5-d790-4c06-be0e-23ab6fd8fef8",
   "metadata": {},
   "outputs": [
    {
     "data": {
      "text/plain": [
       "1"
      ]
     },
     "execution_count": 13,
     "metadata": {},
     "output_type": "execute_result"
    }
   ],
   "source": [
    "next(f)"
   ]
  },
  {
   "cell_type": "code",
   "execution_count": 14,
   "id": "ae4e186a-9440-4169-aff0-e6ad69664e7f",
   "metadata": {},
   "outputs": [
    {
     "data": {
      "text/plain": [
       "1"
      ]
     },
     "execution_count": 14,
     "metadata": {},
     "output_type": "execute_result"
    }
   ],
   "source": [
    "next(f)"
   ]
  },
  {
   "cell_type": "code",
   "execution_count": 15,
   "id": "31dae51b-cfef-4226-a856-af35d744798e",
   "metadata": {},
   "outputs": [
    {
     "data": {
      "text/plain": [
       "2"
      ]
     },
     "execution_count": 15,
     "metadata": {},
     "output_type": "execute_result"
    }
   ],
   "source": [
    "next(f)"
   ]
  },
  {
   "cell_type": "code",
   "execution_count": 16,
   "id": "5517d1d6-ee97-4d0d-b626-44fd14010a46",
   "metadata": {},
   "outputs": [
    {
     "data": {
      "text/plain": [
       "3"
      ]
     },
     "execution_count": 16,
     "metadata": {},
     "output_type": "execute_result"
    }
   ],
   "source": [
    "next(f)"
   ]
  },
  {
   "cell_type": "code",
   "execution_count": null,
   "id": "d1350765-ab8c-4c68-b331-bd504855c6d2",
   "metadata": {},
   "outputs": [],
   "source": [
    "#6. Write a generator function in Python that yields the powers of 2 up to a given exponent."
   ]
  },
  {
   "cell_type": "code",
   "execution_count": 17,
   "id": "99f442b1-d72a-4c48-aa01-6af2a9b920a3",
   "metadata": {},
   "outputs": [
    {
     "name": "stdin",
     "output_type": "stream",
     "text": [
      "Input the base number:  4\n",
      "Input the exponent:  3\n"
     ]
    },
    {
     "name": "stdout",
     "output_type": "stream",
     "text": [
      "Powers of 4 up to exponent 3:\n",
      "1\n",
      "4\n",
      "16\n",
      "64\n"
     ]
    }
   ],
   "source": [
    "def power_generator(base, exponent):\n",
    "    result = 1\n",
    "    for i in range(exponent + 1):\n",
    "        yield result\n",
    "        result *= base\n",
    "\n",
    "base = int(input(\"Input the base number: \"))\n",
    "exponent = int(input(\"Input the exponent: \"))\n",
    "\n",
    "power_gen = power_generator(base, exponent)\n",
    "\n",
    "print(f\"Powers of {base} up to exponent {exponent}:\")\n",
    "for power in power_gen:\n",
    "    print(power)"
   ]
  },
  {
   "cell_type": "code",
   "execution_count": null,
   "id": "9cb66b22-9b63-4275-93c2-de529e13ea27",
   "metadata": {},
   "outputs": [],
   "source": [
    "#7. Implement a generator function that reads a file line by line and yields each line as a string."
   ]
  },
  {
   "cell_type": "code",
   "execution_count": 1,
   "id": "ea8e98a5-b553-4965-aa11-f01048b0af75",
   "metadata": {},
   "outputs": [
    {
     "name": "stdout",
     "output_type": "stream",
     "text": [
      "Line1: Amrit\n",
      "Line2: Anand\n",
      "Line3: Sharma\n"
     ]
    }
   ],
   "source": [
    "L = [\"Amrit\\n\", \"Anand\\n\", \"Sharma\\n\"]\n",
    "\n",
    "file1 = open('myfile.txt', 'w')\n",
    "file1.writelines(L)\n",
    "file1.close()\n",
    "\n",
    "file1 = open('myfile.txt', 'r')\n",
    "Lines = file1.readlines()\n",
    "\n",
    "count = 0\n",
    "\n",
    "for line in Lines:\n",
    "    count += 1\n",
    "    print(\"Line{}: {}\".format(count, line.strip()))"
   ]
  },
  {
   "cell_type": "code",
   "execution_count": null,
   "id": "0469ddd0-2734-4a51-b6c7-12430a82db50",
   "metadata": {},
   "outputs": [],
   "source": [
    "#8. Use a lambda function in Python to sort a list of tuples based on the second element of each tuple."
   ]
  },
  {
   "cell_type": "code",
   "execution_count": 2,
   "id": "be1ed381-babb-446e-b226-f4ec5b3d9ea8",
   "metadata": {},
   "outputs": [
    {
     "name": "stdout",
     "output_type": "stream",
     "text": [
      "The original list is : [('a', 2), ('c', 3), ('d', 4)]\n",
      "The sort order list is : [4, 2, 3]\n",
      "The list after appropriate sorting : [('d', 4), ('a', 2), ('c', 3)]\n"
     ]
    }
   ],
   "source": [
    "test_list = [('a', 2), ('c', 3), ('d', 4)]\n",
    " \n",
    "sort_order = [4, 2, 3]\n",
    " \n",
    "print(\"The original list is : \" + str(test_list))\n",
    " \n",
    "print(\"The sort order list is : \" + str(sort_order))\n",
    "res = []\n",
    "for i in sort_order:\n",
    "    for j in test_list:\n",
    "        if(j[1] == i):\n",
    "            res.append(j)\n",
    " \n",
    "print(\"The list after appropriate sorting : \" + str(res))"
   ]
  },
  {
   "cell_type": "code",
   "execution_count": null,
   "id": "a4526f72-6f37-496f-87c5-bef36c6070b7",
   "metadata": {},
   "outputs": [],
   "source": [
    "#9. Write a Python program that uses `map()` to convert a list of temperatures from Celsius to Fahrenheit."
   ]
  },
  {
   "cell_type": "code",
   "execution_count": 4,
   "id": "b6dee130-4aa4-4c3c-acb9-3f4cac6ff11c",
   "metadata": {},
   "outputs": [
    {
     "name": "stdout",
     "output_type": "stream",
     "text": [
      "[102.56, 97.7, 99.14, 100.03999999999999]\n",
      "[]\n"
     ]
    }
   ],
   "source": [
    "temp2 = [39.2, 36.5, 37.3, 37.8]\n",
    "Farhenheit = map(lambda x: (float(9)/5) * x + 32, temp2)\n",
    "print(list(Farhenheit))\n",
    "Celsius = map(lambda x: (float(5)/9) * (x - 32), Farhenheit)\n",
    "print(list(Celsius))"
   ]
  },
  {
   "cell_type": "code",
   "execution_count": null,
   "id": "ede9d637-1bd0-494a-a9d7-5cff1fb43309",
   "metadata": {},
   "outputs": [],
   "source": [
    "#10. Create a Python program that uses `filter()` to remove all the vowels from a given string."
   ]
  },
  {
   "cell_type": "code",
   "execution_count": 1,
   "id": "1ead2367-6857-4907-9b18-9769a94bc3ca",
   "metadata": {},
   "outputs": [
    {
     "name": "stdout",
     "output_type": "stream",
     "text": [
      "The filtered letters are:\n",
      "p\n",
      "w\n",
      "s\n",
      "k\n",
      "l\n",
      "l\n",
      "s\n"
     ]
    }
   ],
   "source": [
    "def fun(variable):\n",
    "    letters = ['a', 'e', 'i', 'o', 'u']\n",
    "    if (variable not in letters):\n",
    "        return True\n",
    "    else:\n",
    "        return False\n",
    "    \n",
    "sequence = ['p', 'w', 's', 'k', 'i', 'l', 'l', 's']\n",
    "\n",
    "filtered = filter(fun, sequence)\n",
    "\n",
    "print('The filtered letters are:')\n",
    "for s in filtered:\n",
    "    print(s)"
   ]
  },
  {
   "cell_type": "code",
   "execution_count": null,
   "id": "7d87c82a-4766-489b-831f-40ac2af54d57",
   "metadata": {},
   "outputs": [],
   "source": [
    "#11) Imagine an accounting routine used in a book shop. It works on a list with sublists, which look like this:\n",
    "#Write a Python program, which returns a list with 2-tuples. Each tuple consists of the order number and the\n",
    "#product of the price per item and the quantity. The product should be increased by 10,- € if the value of the order is smaller than 100,00 €.\n",
    "\n",
    "#Write a Python program using lambda and map.\n"
   ]
  },
  {
   "cell_type": "code",
   "execution_count": null,
   "id": "71049546-4764-4018-a7fd-b4f25bbd02f7",
   "metadata": {},
   "outputs": [],
   "source": []
  },
  {
   "cell_type": "code",
   "execution_count": null,
   "id": "3b5728b7-3b4a-4594-a6a1-ac3f8433c49c",
   "metadata": {},
   "outputs": [],
   "source": []
  },
  {
   "cell_type": "code",
   "execution_count": null,
   "id": "fdbb8551-92f9-4cb3-b52b-0d2e6bcd2d8f",
   "metadata": {},
   "outputs": [],
   "source": []
  }
 ],
 "metadata": {
  "kernelspec": {
   "display_name": "Python 3 (ipykernel)",
   "language": "python",
   "name": "python3"
  },
  "language_info": {
   "codemirror_mode": {
    "name": "ipython",
    "version": 3
   },
   "file_extension": ".py",
   "mimetype": "text/x-python",
   "name": "python",
   "nbconvert_exporter": "python",
   "pygments_lexer": "ipython3",
   "version": "3.10.8"
  }
 },
 "nbformat": 4,
 "nbformat_minor": 5
}
